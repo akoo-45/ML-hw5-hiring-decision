{
  "nbformat": 4,
  "nbformat_minor": 0,
  "metadata": {
    "colab": {
      "name": "HW5_hiring-decision.ipynb",
      "version": "0.3.2",
      "provenance": [],
      "include_colab_link": true
    },
    "kernelspec": {
      "name": "python3",
      "display_name": "Python 3"
    }
  },
  "cells": [
    {
      "cell_type": "markdown",
      "metadata": {
        "id": "view-in-github",
        "colab_type": "text"
      },
      "source": [
        "<a href=\"https://colab.research.google.com/github/akoo-45/ML-hw5-hiring-decision/blob/master/HW5_hiring_decision.ipynb\" target=\"_parent\"><img src=\"https://colab.research.google.com/assets/colab-badge.svg\" alt=\"Open In Colab\"/></a>"
      ]
    },
    {
      "cell_type": "code",
      "metadata": {
        "id": "WJlriRKQyyOo",
        "colab_type": "code",
        "colab": {
          "base_uri": "https://localhost:8080/",
          "height": 434
        },
        "outputId": "535474df-8a8d-428e-83be-31669e29f241"
      },
      "source": [
        "# Download CSV files locally\n",
        "\n",
        "import pandas as pd\n",
        "import numpy as np\n",
        "\n",
        "cookbook = pd.read_csv('/content/CodeBook-SELECT.csv')\n",
        "train_set = pd.read_csv('/content/hw5-trainingset-hk2827.csv')\n",
        "test_set = pd.read_csv('/content/hw5-testset-hk2827.csv')\n",
        "\n",
        "test_set.head()\n",
        "\n",
        "# !git clone https://github.com/akoo-45/ML-hw5-hiring-decision"
      ],
      "execution_count": 6,
      "outputs": [
        {
          "output_type": "stream",
          "text": [
            "/usr/local/lib/python3.6/dist-packages/IPython/core/interactiveshell.py:2718: DtypeWarning: Columns (50,53,54,55,56,256,257,258,268,376) have mixed types. Specify dtype option on import or set low_memory=False.\n",
            "  interactivity=interactivity, compiler=compiler, result=result)\n",
            "/usr/local/lib/python3.6/dist-packages/IPython/core/interactiveshell.py:2718: DtypeWarning: Columns (50,255,256,257,258,260,268) have mixed types. Specify dtype option on import or set low_memory=False.\n",
            "  interactivity=interactivity, compiler=compiler, result=result)\n"
          ],
          "name": "stderr"
        },
        {
          "output_type": "execute_result",
          "data": {
            "text/html": [
              "<div>\n",
              "<style scoped>\n",
              "    .dataframe tbody tr th:only-of-type {\n",
              "        vertical-align: middle;\n",
              "    }\n",
              "\n",
              "    .dataframe tbody tr th {\n",
              "        vertical-align: top;\n",
              "    }\n",
              "\n",
              "    .dataframe thead th {\n",
              "        text-align: right;\n",
              "    }\n",
              "</style>\n",
              "<table border=\"1\" class=\"dataframe\">\n",
              "  <thead>\n",
              "    <tr style=\"text-align: right;\">\n",
              "      <th></th>\n",
              "      <th>cntryid</th>\n",
              "      <th>cntryid_e</th>\n",
              "      <th>age_r</th>\n",
              "      <th>gender_r</th>\n",
              "      <th>computerexperience</th>\n",
              "      <th>nativespeaker</th>\n",
              "      <th>edlevel3</th>\n",
              "      <th>monthlyincpr</th>\n",
              "      <th>yearlyincpr</th>\n",
              "      <th>lng_home</th>\n",
              "      <th>...</th>\n",
              "      <th>v85</th>\n",
              "      <th>v50</th>\n",
              "      <th>v89</th>\n",
              "      <th>v127</th>\n",
              "      <th>v239</th>\n",
              "      <th>v224</th>\n",
              "      <th>v71</th>\n",
              "      <th>v105</th>\n",
              "      <th>row</th>\n",
              "      <th>uni</th>\n",
              "    </tr>\n",
              "  </thead>\n",
              "  <tbody>\n",
              "    <tr>\n",
              "      <th>0</th>\n",
              "      <td>Germany</td>\n",
              "      <td>Germany</td>\n",
              "      <td>NaN</td>\n",
              "      <td>Male</td>\n",
              "      <td>Yes</td>\n",
              "      <td>No</td>\n",
              "      <td>Low</td>\n",
              "      <td>NaN</td>\n",
              "      <td>NaN</td>\n",
              "      <td>999</td>\n",
              "      <td>...</td>\n",
              "      <td>Strongly agree</td>\n",
              "      <td>Strongly agree</td>\n",
              "      <td>NaN</td>\n",
              "      <td>NaN</td>\n",
              "      <td>9996.0</td>\n",
              "      <td>9999.0</td>\n",
              "      <td>9996.0</td>\n",
              "      <td>9999.0</td>\n",
              "      <td>97104</td>\n",
              "      <td>hk2827</td>\n",
              "    </tr>\n",
              "    <tr>\n",
              "      <th>1</th>\n",
              "      <td>United Kingdom</td>\n",
              "      <td>England (UK)</td>\n",
              "      <td>35.0</td>\n",
              "      <td>Male</td>\n",
              "      <td>Yes</td>\n",
              "      <td>Yes</td>\n",
              "      <td>High</td>\n",
              "      <td>50 to less than 75</td>\n",
              "      <td>50 to less than 75</td>\n",
              "      <td>eng</td>\n",
              "      <td>...</td>\n",
              "      <td>Neither agree nor disagree</td>\n",
              "      <td>Agree</td>\n",
              "      <td>NaN</td>\n",
              "      <td>NaN</td>\n",
              "      <td>2165.0</td>\n",
              "      <td>9996.0</td>\n",
              "      <td>7110.0</td>\n",
              "      <td>9996.0</td>\n",
              "      <td>77771</td>\n",
              "      <td>hk2827</td>\n",
              "    </tr>\n",
              "    <tr>\n",
              "      <th>2</th>\n",
              "      <td>United States</td>\n",
              "      <td>United States</td>\n",
              "      <td>NaN</td>\n",
              "      <td>Male</td>\n",
              "      <td>Yes</td>\n",
              "      <td>Yes</td>\n",
              "      <td>Medium</td>\n",
              "      <td>NaN</td>\n",
              "      <td>NaN</td>\n",
              "      <td>999</td>\n",
              "      <td>...</td>\n",
              "      <td>Disagree</td>\n",
              "      <td>Disagree</td>\n",
              "      <td>NaN</td>\n",
              "      <td>NaN</td>\n",
              "      <td>9999.0</td>\n",
              "      <td>9996.0</td>\n",
              "      <td>9999.0</td>\n",
              "      <td>9996.0</td>\n",
              "      <td>55000</td>\n",
              "      <td>hk2827</td>\n",
              "    </tr>\n",
              "    <tr>\n",
              "      <th>3</th>\n",
              "      <td>Germany</td>\n",
              "      <td>Germany</td>\n",
              "      <td>NaN</td>\n",
              "      <td>Male</td>\n",
              "      <td>Yes</td>\n",
              "      <td>Yes</td>\n",
              "      <td>Medium</td>\n",
              "      <td>50 to less than 75</td>\n",
              "      <td>50 to less than 75</td>\n",
              "      <td>999</td>\n",
              "      <td>...</td>\n",
              "      <td>Strongly agree</td>\n",
              "      <td>Agree</td>\n",
              "      <td>NaN</td>\n",
              "      <td>NaN</td>\n",
              "      <td>9999.0</td>\n",
              "      <td>9996.0</td>\n",
              "      <td>9999.0</td>\n",
              "      <td>9996.0</td>\n",
              "      <td>97222</td>\n",
              "      <td>hk2827</td>\n",
              "    </tr>\n",
              "    <tr>\n",
              "      <th>4</th>\n",
              "      <td>France</td>\n",
              "      <td>France</td>\n",
              "      <td>32.0</td>\n",
              "      <td>Female</td>\n",
              "      <td>Yes</td>\n",
              "      <td>Yes</td>\n",
              "      <td>Medium</td>\n",
              "      <td>NaN</td>\n",
              "      <td>NaN</td>\n",
              "      <td>fra</td>\n",
              "      <td>...</td>\n",
              "      <td>Strongly agree</td>\n",
              "      <td>Strongly agree</td>\n",
              "      <td>NaN</td>\n",
              "      <td>NaN</td>\n",
              "      <td>9996.0</td>\n",
              "      <td>5230.0</td>\n",
              "      <td>9996.0</td>\n",
              "      <td>4711.0</td>\n",
              "      <td>37538</td>\n",
              "      <td>hk2827</td>\n",
              "    </tr>\n",
              "  </tbody>\n",
              "</table>\n",
              "<p>5 rows × 380 columns</p>\n",
              "</div>"
            ],
            "text/plain": [
              "          cntryid      cntryid_e  age_r gender_r computerexperience  \\\n",
              "0         Germany        Germany    NaN     Male                Yes   \n",
              "1  United Kingdom   England (UK)   35.0     Male                Yes   \n",
              "2   United States  United States    NaN     Male                Yes   \n",
              "3         Germany        Germany    NaN     Male                Yes   \n",
              "4          France         France   32.0   Female                Yes   \n",
              "\n",
              "  nativespeaker edlevel3        monthlyincpr         yearlyincpr lng_home  \\\n",
              "0            No      Low                 NaN                 NaN      999   \n",
              "1           Yes     High  50 to less than 75  50 to less than 75      eng   \n",
              "2           Yes   Medium                 NaN                 NaN      999   \n",
              "3           Yes   Medium  50 to less than 75  50 to less than 75      999   \n",
              "4           Yes   Medium                 NaN                 NaN      fra   \n",
              "\n",
              "   ...                         v85             v50  v89 v127    v239    v224  \\\n",
              "0  ...              Strongly agree  Strongly agree  NaN  NaN  9996.0  9999.0   \n",
              "1  ...  Neither agree nor disagree           Agree  NaN  NaN  2165.0  9996.0   \n",
              "2  ...                    Disagree        Disagree  NaN  NaN  9999.0  9996.0   \n",
              "3  ...              Strongly agree           Agree  NaN  NaN  9999.0  9996.0   \n",
              "4  ...              Strongly agree  Strongly agree  NaN  NaN  9996.0  5230.0   \n",
              "\n",
              "      v71    v105    row     uni  \n",
              "0  9996.0  9999.0  97104  hk2827  \n",
              "1  7110.0  9996.0  77771  hk2827  \n",
              "2  9999.0  9996.0  55000  hk2827  \n",
              "3  9999.0  9996.0  97222  hk2827  \n",
              "4  9996.0  4711.0  37538  hk2827  \n",
              "\n",
              "[5 rows x 380 columns]"
            ]
          },
          "metadata": {
            "tags": []
          },
          "execution_count": 6
        }
      ]
    },
    {
      "cell_type": "code",
      "metadata": {
        "id": "xlRZLq0INKEB",
        "colab_type": "code",
        "colab": {}
      },
      "source": [
        ""
      ],
      "execution_count": 0,
      "outputs": []
    },
    {
      "cell_type": "code",
      "metadata": {
        "id": "SxuEc8G00xpq",
        "colab_type": "code",
        "colab": {}
      },
      "source": [
        "# SKLearn, golden stardard for ML with python\n",
        "from sklearn import datasets \n",
        "data = datasets.load_boston() # load Boston dataset "
      ],
      "execution_count": 0,
      "outputs": []
    },
    {
      "cell_type": "code",
      "metadata": {
        "id": "zadu7ekFTv9s",
        "colab_type": "code",
        "colab": {
          "base_uri": "https://localhost:8080/",
          "height": 2310
        },
        "outputId": "88af63fe-be6e-4605-cc95-bae7f3dc5c3b"
      },
      "source": [
        "# define the data/predictors as the preset feature names\n",
        "df = pd.DataFrame(data.data, columns=data.feature_names)\n",
        "print(df)\n",
        "print(data.feature_names)\n",
        "\n",
        "# Put the target (housing value -- MEDV) in another data frame\n",
        "target = pd.DataFrame(data.target, columns=[\"MEDV\"])"
      ],
      "execution_count": 19,
      "outputs": [
        {
          "output_type": "stream",
          "text": [
            "         CRIM    ZN  INDUS  CHAS    NOX     RM    AGE     DIS   RAD    TAX  \\\n",
            "0     0.00632  18.0   2.31   0.0  0.538  6.575   65.2  4.0900   1.0  296.0   \n",
            "1     0.02731   0.0   7.07   0.0  0.469  6.421   78.9  4.9671   2.0  242.0   \n",
            "2     0.02729   0.0   7.07   0.0  0.469  7.185   61.1  4.9671   2.0  242.0   \n",
            "3     0.03237   0.0   2.18   0.0  0.458  6.998   45.8  6.0622   3.0  222.0   \n",
            "4     0.06905   0.0   2.18   0.0  0.458  7.147   54.2  6.0622   3.0  222.0   \n",
            "5     0.02985   0.0   2.18   0.0  0.458  6.430   58.7  6.0622   3.0  222.0   \n",
            "6     0.08829  12.5   7.87   0.0  0.524  6.012   66.6  5.5605   5.0  311.0   \n",
            "7     0.14455  12.5   7.87   0.0  0.524  6.172   96.1  5.9505   5.0  311.0   \n",
            "8     0.21124  12.5   7.87   0.0  0.524  5.631  100.0  6.0821   5.0  311.0   \n",
            "9     0.17004  12.5   7.87   0.0  0.524  6.004   85.9  6.5921   5.0  311.0   \n",
            "10    0.22489  12.5   7.87   0.0  0.524  6.377   94.3  6.3467   5.0  311.0   \n",
            "11    0.11747  12.5   7.87   0.0  0.524  6.009   82.9  6.2267   5.0  311.0   \n",
            "12    0.09378  12.5   7.87   0.0  0.524  5.889   39.0  5.4509   5.0  311.0   \n",
            "13    0.62976   0.0   8.14   0.0  0.538  5.949   61.8  4.7075   4.0  307.0   \n",
            "14    0.63796   0.0   8.14   0.0  0.538  6.096   84.5  4.4619   4.0  307.0   \n",
            "15    0.62739   0.0   8.14   0.0  0.538  5.834   56.5  4.4986   4.0  307.0   \n",
            "16    1.05393   0.0   8.14   0.0  0.538  5.935   29.3  4.4986   4.0  307.0   \n",
            "17    0.78420   0.0   8.14   0.0  0.538  5.990   81.7  4.2579   4.0  307.0   \n",
            "18    0.80271   0.0   8.14   0.0  0.538  5.456   36.6  3.7965   4.0  307.0   \n",
            "19    0.72580   0.0   8.14   0.0  0.538  5.727   69.5  3.7965   4.0  307.0   \n",
            "20    1.25179   0.0   8.14   0.0  0.538  5.570   98.1  3.7979   4.0  307.0   \n",
            "21    0.85204   0.0   8.14   0.0  0.538  5.965   89.2  4.0123   4.0  307.0   \n",
            "22    1.23247   0.0   8.14   0.0  0.538  6.142   91.7  3.9769   4.0  307.0   \n",
            "23    0.98843   0.0   8.14   0.0  0.538  5.813  100.0  4.0952   4.0  307.0   \n",
            "24    0.75026   0.0   8.14   0.0  0.538  5.924   94.1  4.3996   4.0  307.0   \n",
            "25    0.84054   0.0   8.14   0.0  0.538  5.599   85.7  4.4546   4.0  307.0   \n",
            "26    0.67191   0.0   8.14   0.0  0.538  5.813   90.3  4.6820   4.0  307.0   \n",
            "27    0.95577   0.0   8.14   0.0  0.538  6.047   88.8  4.4534   4.0  307.0   \n",
            "28    0.77299   0.0   8.14   0.0  0.538  6.495   94.4  4.4547   4.0  307.0   \n",
            "29    1.00245   0.0   8.14   0.0  0.538  6.674   87.3  4.2390   4.0  307.0   \n",
            "..        ...   ...    ...   ...    ...    ...    ...     ...   ...    ...   \n",
            "476   4.87141   0.0  18.10   0.0  0.614  6.484   93.6  2.3053  24.0  666.0   \n",
            "477  15.02340   0.0  18.10   0.0  0.614  5.304   97.3  2.1007  24.0  666.0   \n",
            "478  10.23300   0.0  18.10   0.0  0.614  6.185   96.7  2.1705  24.0  666.0   \n",
            "479  14.33370   0.0  18.10   0.0  0.614  6.229   88.0  1.9512  24.0  666.0   \n",
            "480   5.82401   0.0  18.10   0.0  0.532  6.242   64.7  3.4242  24.0  666.0   \n",
            "481   5.70818   0.0  18.10   0.0  0.532  6.750   74.9  3.3317  24.0  666.0   \n",
            "482   5.73116   0.0  18.10   0.0  0.532  7.061   77.0  3.4106  24.0  666.0   \n",
            "483   2.81838   0.0  18.10   0.0  0.532  5.762   40.3  4.0983  24.0  666.0   \n",
            "484   2.37857   0.0  18.10   0.0  0.583  5.871   41.9  3.7240  24.0  666.0   \n",
            "485   3.67367   0.0  18.10   0.0  0.583  6.312   51.9  3.9917  24.0  666.0   \n",
            "486   5.69175   0.0  18.10   0.0  0.583  6.114   79.8  3.5459  24.0  666.0   \n",
            "487   4.83567   0.0  18.10   0.0  0.583  5.905   53.2  3.1523  24.0  666.0   \n",
            "488   0.15086   0.0  27.74   0.0  0.609  5.454   92.7  1.8209   4.0  711.0   \n",
            "489   0.18337   0.0  27.74   0.0  0.609  5.414   98.3  1.7554   4.0  711.0   \n",
            "490   0.20746   0.0  27.74   0.0  0.609  5.093   98.0  1.8226   4.0  711.0   \n",
            "491   0.10574   0.0  27.74   0.0  0.609  5.983   98.8  1.8681   4.0  711.0   \n",
            "492   0.11132   0.0  27.74   0.0  0.609  5.983   83.5  2.1099   4.0  711.0   \n",
            "493   0.17331   0.0   9.69   0.0  0.585  5.707   54.0  2.3817   6.0  391.0   \n",
            "494   0.27957   0.0   9.69   0.0  0.585  5.926   42.6  2.3817   6.0  391.0   \n",
            "495   0.17899   0.0   9.69   0.0  0.585  5.670   28.8  2.7986   6.0  391.0   \n",
            "496   0.28960   0.0   9.69   0.0  0.585  5.390   72.9  2.7986   6.0  391.0   \n",
            "497   0.26838   0.0   9.69   0.0  0.585  5.794   70.6  2.8927   6.0  391.0   \n",
            "498   0.23912   0.0   9.69   0.0  0.585  6.019   65.3  2.4091   6.0  391.0   \n",
            "499   0.17783   0.0   9.69   0.0  0.585  5.569   73.5  2.3999   6.0  391.0   \n",
            "500   0.22438   0.0   9.69   0.0  0.585  6.027   79.7  2.4982   6.0  391.0   \n",
            "501   0.06263   0.0  11.93   0.0  0.573  6.593   69.1  2.4786   1.0  273.0   \n",
            "502   0.04527   0.0  11.93   0.0  0.573  6.120   76.7  2.2875   1.0  273.0   \n",
            "503   0.06076   0.0  11.93   0.0  0.573  6.976   91.0  2.1675   1.0  273.0   \n",
            "504   0.10959   0.0  11.93   0.0  0.573  6.794   89.3  2.3889   1.0  273.0   \n",
            "505   0.04741   0.0  11.93   0.0  0.573  6.030   80.8  2.5050   1.0  273.0   \n",
            "\n",
            "     PTRATIO       B  LSTAT  \n",
            "0       15.3  396.90   4.98  \n",
            "1       17.8  396.90   9.14  \n",
            "2       17.8  392.83   4.03  \n",
            "3       18.7  394.63   2.94  \n",
            "4       18.7  396.90   5.33  \n",
            "5       18.7  394.12   5.21  \n",
            "6       15.2  395.60  12.43  \n",
            "7       15.2  396.90  19.15  \n",
            "8       15.2  386.63  29.93  \n",
            "9       15.2  386.71  17.10  \n",
            "10      15.2  392.52  20.45  \n",
            "11      15.2  396.90  13.27  \n",
            "12      15.2  390.50  15.71  \n",
            "13      21.0  396.90   8.26  \n",
            "14      21.0  380.02  10.26  \n",
            "15      21.0  395.62   8.47  \n",
            "16      21.0  386.85   6.58  \n",
            "17      21.0  386.75  14.67  \n",
            "18      21.0  288.99  11.69  \n",
            "19      21.0  390.95  11.28  \n",
            "20      21.0  376.57  21.02  \n",
            "21      21.0  392.53  13.83  \n",
            "22      21.0  396.90  18.72  \n",
            "23      21.0  394.54  19.88  \n",
            "24      21.0  394.33  16.30  \n",
            "25      21.0  303.42  16.51  \n",
            "26      21.0  376.88  14.81  \n",
            "27      21.0  306.38  17.28  \n",
            "28      21.0  387.94  12.80  \n",
            "29      21.0  380.23  11.98  \n",
            "..       ...     ...    ...  \n",
            "476     20.2  396.21  18.68  \n",
            "477     20.2  349.48  24.91  \n",
            "478     20.2  379.70  18.03  \n",
            "479     20.2  383.32  13.11  \n",
            "480     20.2  396.90  10.74  \n",
            "481     20.2  393.07   7.74  \n",
            "482     20.2  395.28   7.01  \n",
            "483     20.2  392.92  10.42  \n",
            "484     20.2  370.73  13.34  \n",
            "485     20.2  388.62  10.58  \n",
            "486     20.2  392.68  14.98  \n",
            "487     20.2  388.22  11.45  \n",
            "488     20.1  395.09  18.06  \n",
            "489     20.1  344.05  23.97  \n",
            "490     20.1  318.43  29.68  \n",
            "491     20.1  390.11  18.07  \n",
            "492     20.1  396.90  13.35  \n",
            "493     19.2  396.90  12.01  \n",
            "494     19.2  396.90  13.59  \n",
            "495     19.2  393.29  17.60  \n",
            "496     19.2  396.90  21.14  \n",
            "497     19.2  396.90  14.10  \n",
            "498     19.2  396.90  12.92  \n",
            "499     19.2  395.77  15.10  \n",
            "500     19.2  396.90  14.33  \n",
            "501     21.0  391.99   9.67  \n",
            "502     21.0  396.90   9.08  \n",
            "503     21.0  396.90   5.64  \n",
            "504     21.0  393.45   6.48  \n",
            "505     21.0  396.90   7.88  \n",
            "\n",
            "[506 rows x 13 columns]\n",
            "['CRIM' 'ZN' 'INDUS' 'CHAS' 'NOX' 'RM' 'AGE' 'DIS' 'RAD' 'TAX' 'PTRATIO'\n",
            " 'B' 'LSTAT']\n"
          ],
          "name": "stdout"
        }
      ]
    },
    {
      "cell_type": "code",
      "metadata": {
        "id": "BYkL5Je8byqV",
        "colab_type": "code",
        "colab": {
          "base_uri": "https://localhost:8080/",
          "height": 285
        },
        "outputId": "1313fe9a-333a-485d-a8c8-ff78e48a2591"
      },
      "source": [
        "# Encoding categorical variables\n",
        "pip install category_encoders"
      ],
      "execution_count": 28,
      "outputs": [
        {
          "output_type": "stream",
          "text": [
            "Collecting category_encoders\n",
            "\u001b[?25l  Downloading https://files.pythonhosted.org/packages/6e/a1/f7a22f144f33be78afeb06bfa78478e8284a64263a3c09b1ef54e673841e/category_encoders-2.0.0-py2.py3-none-any.whl (87kB)\n",
            "\u001b[K     |████████████████████████████████| 92kB 3.4MB/s \n",
            "\u001b[?25hRequirement already satisfied: numpy>=1.11.3 in /usr/local/lib/python3.6/dist-packages (from category_encoders) (1.16.3)\n",
            "Requirement already satisfied: scipy>=0.19.0 in /usr/local/lib/python3.6/dist-packages (from category_encoders) (1.2.1)\n",
            "Requirement already satisfied: statsmodels>=0.6.1 in /usr/local/lib/python3.6/dist-packages (from category_encoders) (0.9.0)\n",
            "Requirement already satisfied: scikit-learn>=0.20.0 in /usr/local/lib/python3.6/dist-packages (from category_encoders) (0.20.3)\n",
            "Requirement already satisfied: patsy>=0.4.1 in /usr/local/lib/python3.6/dist-packages (from category_encoders) (0.5.1)\n",
            "Requirement already satisfied: pandas>=0.21.1 in /usr/local/lib/python3.6/dist-packages (from category_encoders) (0.24.2)\n",
            "Requirement already satisfied: six in /usr/local/lib/python3.6/dist-packages (from patsy>=0.4.1->category_encoders) (1.12.0)\n",
            "Requirement already satisfied: python-dateutil>=2.5.0 in /usr/local/lib/python3.6/dist-packages (from pandas>=0.21.1->category_encoders) (2.5.3)\n",
            "Requirement already satisfied: pytz>=2011k in /usr/local/lib/python3.6/dist-packages (from pandas>=0.21.1->category_encoders) (2018.9)\n",
            "Installing collected packages: category-encoders\n",
            "Successfully installed category-encoders-2.0.0\n"
          ],
          "name": "stdout"
        }
      ]
    },
    {
      "cell_type": "code",
      "metadata": {
        "id": "qUQPHLJfdmOb",
        "colab_type": "code",
        "colab": {
          "base_uri": "https://localhost:8080/",
          "height": 298
        },
        "outputId": "e3a7d07a-3f9f-4c3b-a7eb-5c0adf674764"
      },
      "source": [
        "train_set['age_r'].value_counts().plot(kind='bar')"
      ],
      "execution_count": 29,
      "outputs": [
        {
          "output_type": "execute_result",
          "data": {
            "text/plain": [
              "<matplotlib.axes._subplots.AxesSubplot at 0x7f6c91fe5ef0>"
            ]
          },
          "metadata": {
            "tags": []
          },
          "execution_count": 29
        },
        {
          "output_type": "display_data",
          "data": {
            "image/png": "[encoded data removed]",
            "text/plain": [
              "<Figure size 432x288 with 1 Axes>"
            ]
          },
          "metadata": {
            "tags": []
          }
        }
      ]
    },
    {
      "cell_type": "code",
      "metadata": {
        "id": "KKPO99s0d3jF",
        "colab_type": "code",
        "colab": {}
      },
      "source": [
        "import numpy as np\n",
        "import pandas as pd\n",
        "import category_encoders as ce\n",
        "\n",
        "# List nominal and ordinal columns for the encoders\n",
        "nominal = ['workclass', 'marital-status', 'occupation', 'relationship']\n",
        "ordinal = ['education']\n",
        "high_card = ['native-country']\n",
        "\n",
        "# split into X and y\n",
        "X = df.loc[:, 'Age':'native-country']\n",
        "Z = df1\n",
        "y = df.loc[:, 'income']\n",
        "\n"
      ],
      "execution_count": 0,
      "outputs": []
    },
    {
      "cell_type": "code",
      "metadata": {
        "id": "4wNUft8_U-7C",
        "colab_type": "code",
        "colab": {
          "base_uri": "https://localhost:8080/",
          "height": 364
        },
        "outputId": "0f347d6f-da7f-43b7-89db-8a4927fe375e"
      },
      "source": [
        "# Extract X and Y from train_set\n",
        "X1 = train_set.loc[:, 'age_r']\n",
        "X1 = X1.reshape(-1, 1)\n",
        "# X2 = train_set.loc[:, 'v59':]\n",
        "Y = train_set.loc[:, 'job_performance']\n",
        "# print(Y.shape) # 20000\n",
        "# print(Y) causes 0, 1, 2, 3, ... indexing\n",
        "# X1.join(X2)\n",
        "# X = pd.concat([X1, X2], axis=1)\n",
        "\n",
        "# print(X.head()) # Verify that this worked \n",
        "\n",
        "# Fit a basic linear model on X and Y \n",
        "from sklearn import linear_model\n",
        "lm = linear_model.LinearRegression()\n",
        "model = lm.fit(X1,Y)\n",
        "predictions = lm.predict(X1)\n",
        "print(predictions)[0:5]\n",
        "print(Y[0:5])\n"
      ],
      "execution_count": 27,
      "outputs": [
        {
          "output_type": "error",
          "ename": "AttributeError",
          "evalue": "ignored",
          "traceback": [
            "\u001b[0;31m---------------------------------------------------------------------------\u001b[0m",
            "\u001b[0;31mAttributeError\u001b[0m                            Traceback (most recent call last)",
            "\u001b[0;32m<ipython-input-27-1d7a776134db>\u001b[0m in \u001b[0;36m<module>\u001b[0;34m()\u001b[0m\n\u001b[1;32m      1\u001b[0m \u001b[0mX1\u001b[0m \u001b[0;34m=\u001b[0m \u001b[0mtrain_set\u001b[0m\u001b[0;34m.\u001b[0m\u001b[0mloc\u001b[0m\u001b[0;34m[\u001b[0m\u001b[0;34m:\u001b[0m\u001b[0;34m,\u001b[0m \u001b[0;34m'age_r'\u001b[0m\u001b[0;34m]\u001b[0m\u001b[0;34m\u001b[0m\u001b[0;34m\u001b[0m\u001b[0m\n\u001b[0;32m----> 2\u001b[0;31m \u001b[0mX1\u001b[0m \u001b[0;34m=\u001b[0m \u001b[0mX1\u001b[0m\u001b[0;34m.\u001b[0m\u001b[0mreshape\u001b[0m\u001b[0;34m(\u001b[0m\u001b[0;34m-\u001b[0m\u001b[0;36m1\u001b[0m\u001b[0;34m,\u001b[0m \u001b[0;36m1\u001b[0m\u001b[0;34m)\u001b[0m\u001b[0;34m\u001b[0m\u001b[0;34m\u001b[0m\u001b[0m\n\u001b[0m\u001b[1;32m      3\u001b[0m \u001b[0;31m# X2 = train_set.loc[:, 'v59':]\u001b[0m\u001b[0;34m\u001b[0m\u001b[0;34m\u001b[0m\u001b[0;34m\u001b[0m\u001b[0m\n\u001b[1;32m      4\u001b[0m \u001b[0mY\u001b[0m \u001b[0;34m=\u001b[0m \u001b[0mtrain_set\u001b[0m\u001b[0;34m.\u001b[0m\u001b[0mloc\u001b[0m\u001b[0;34m[\u001b[0m\u001b[0;34m:\u001b[0m\u001b[0;34m,\u001b[0m \u001b[0;34m'job_performance'\u001b[0m\u001b[0;34m]\u001b[0m\u001b[0;34m\u001b[0m\u001b[0;34m\u001b[0m\u001b[0m\n\u001b[1;32m      5\u001b[0m \u001b[0;31m# print(Y.shape) # 20000\u001b[0m\u001b[0;34m\u001b[0m\u001b[0;34m\u001b[0m\u001b[0;34m\u001b[0m\u001b[0m\n",
            "\u001b[0;32m/usr/local/lib/python3.6/dist-packages/pandas/core/generic.py\u001b[0m in \u001b[0;36m__getattr__\u001b[0;34m(self, name)\u001b[0m\n\u001b[1;32m   5065\u001b[0m             \u001b[0;32mif\u001b[0m \u001b[0mself\u001b[0m\u001b[0;34m.\u001b[0m\u001b[0m_info_axis\u001b[0m\u001b[0;34m.\u001b[0m\u001b[0m_can_hold_identifiers_and_holds_name\u001b[0m\u001b[0;34m(\u001b[0m\u001b[0mname\u001b[0m\u001b[0;34m)\u001b[0m\u001b[0;34m:\u001b[0m\u001b[0;34m\u001b[0m\u001b[0;34m\u001b[0m\u001b[0m\n\u001b[1;32m   5066\u001b[0m                 \u001b[0;32mreturn\u001b[0m \u001b[0mself\u001b[0m\u001b[0;34m[\u001b[0m\u001b[0mname\u001b[0m\u001b[0;34m]\u001b[0m\u001b[0;34m\u001b[0m\u001b[0;34m\u001b[0m\u001b[0m\n\u001b[0;32m-> 5067\u001b[0;31m             \u001b[0;32mreturn\u001b[0m \u001b[0mobject\u001b[0m\u001b[0;34m.\u001b[0m\u001b[0m__getattribute__\u001b[0m\u001b[0;34m(\u001b[0m\u001b[0mself\u001b[0m\u001b[0;34m,\u001b[0m \u001b[0mname\u001b[0m\u001b[0;34m)\u001b[0m\u001b[0;34m\u001b[0m\u001b[0;34m\u001b[0m\u001b[0m\n\u001b[0m\u001b[1;32m   5068\u001b[0m \u001b[0;34m\u001b[0m\u001b[0m\n\u001b[1;32m   5069\u001b[0m     \u001b[0;32mdef\u001b[0m \u001b[0m__setattr__\u001b[0m\u001b[0;34m(\u001b[0m\u001b[0mself\u001b[0m\u001b[0;34m,\u001b[0m \u001b[0mname\u001b[0m\u001b[0;34m,\u001b[0m \u001b[0mvalue\u001b[0m\u001b[0;34m)\u001b[0m\u001b[0;34m:\u001b[0m\u001b[0;34m\u001b[0m\u001b[0;34m\u001b[0m\u001b[0m\n",
            "\u001b[0;31mAttributeError\u001b[0m: 'Series' object has no attribute 'reshape'"
          ]
        }
      ]
    },
    {
      "cell_type": "code",
      "metadata": {
        "id": "njP8pEa1YQXl",
        "colab_type": "code",
        "colab": {
          "base_uri": "https://localhost:8080/",
          "height": 1172
        },
        "outputId": "3f9a59e2-bb07-463d-996c-8cf7420872ae"
      },
      "source": [
        "print(cookbook)\n",
        "\n",
        "print(len(cookbook.loc[1,:]))\n"
      ],
      "execution_count": 18,
      "outputs": [
        {
          "output_type": "stream",
          "text": [
            "                 VarName                                        Description\n",
            "0                cntryid                     Country ID (ISO 3166, numeric)\n",
            "1              cntryid_e  Participating country or sub-national entity c...\n",
            "2                  age_r  Person resolved age from BQ and QC check (esti...\n",
            "3               gender_r  Person resolved gender from BQ and QC check (e...\n",
            "4                    v59  Formal Training and Education - Highest creden...\n",
            "5                   v200                 Highest level of schooling (Trend)\n",
            "6                   v266  Formal Training and Education - Highest creden...\n",
            "7                    v83  Formal Training and Education - Highest Creden...\n",
            "8                    v31  Formal Training and Education - Highest creden...\n",
            "9                   v202  Formal Training and Education - Highest creden...\n",
            "10                  v151  Formal Training and Education - Highest creden...\n",
            "11                  v231  Age at completion of highest level of schoolin...\n",
            "12                  v272  Formal Training and Education - Highest creden...\n",
            "13                   v32  Formal Training and Education - Highest creden...\n",
            "14                   v78  Formal Training and Education - Highest creden...\n",
            "15                  v138  Formal Training and Education - Time elapsed s...\n",
            "16                   v90  Formal Training and Education - Current creden...\n",
            "17                  v157  Formal Training and Education or training in l...\n",
            "18                   v74  Courses toward certificate, diploma, or degree...\n",
            "19                   v56  Formal Training and Education - Current creden...\n",
            "20                  v107  Formal Training and Education - Current Creden...\n",
            "21                  v245  Formal Training and Education - Current creden...\n",
            "22                  v153  Formal Training and Education - Unfinished cre...\n",
            "23                  v230  Formal Training and Education - Unfinished cre...\n",
            "24                  v243  Formal Training and Education - Unfinished cre...\n",
            "25                  v196  Formal Training and Education - Unfinished cre...\n",
            "26                   v58  Formal Training and Education - Unfinished cre...\n",
            "27                   v61  Formal Training and Education - Unfinished cre...\n",
            "28                   v38  Formal Training and Education - Unfinished cre...\n",
            "29                  v129  Formal Training and Education - Unfinished cre...\n",
            "..                   ...                                                ...\n",
            "349           earnmthall  Monthly earnings (bonuses included) for wage a...\n",
            "350        earnmthalldcl  Monthly earnings (bonuses included) for wage a...\n",
            "351        earnmthallppp  Monthly earnings (bonuses included) for wage a...\n",
            "352      earnmthbonusppp  Monthly earnings (bonuses included) for wage a...\n",
            "353             earnflag  Earnings (bonuses included) reporting method (...\n",
            "354          learnatwork  Indexed measurement of learning at place of em...\n",
            "355   learnatwork_wle_ca  Indexed measurement of learning at place of em...\n",
            "356         readytolearn  Indexed measurement of readiness to learn (est...\n",
            "357  readytolearn_wle_ca  Indexed measurement of readiness to learn, cat...\n",
            "358              icthome  Indexed measurement of use of Info. and Commun...\n",
            "359       icthome_wle_ca  Indexed measurement of use of Info. and Commun...\n",
            "360              ictwork  Indexed measurement of use of Info. and Commun...\n",
            "361       ictwork_wle_ca  Indexed measurement of use of Info. and Commun...\n",
            "362            influence  Indexed measurement of use of influencing capa...\n",
            "363     influence_wle_ca  Indexed measurement of use of influencing capa...\n",
            "364             planning  Indexed measurement of use of planning capabil...\n",
            "365      planning_wle_ca  Indexed measurement of use of planning capabil...\n",
            "366             readhome  Indexed measurement of use of reading capabili...\n",
            "367      readhome_wle_ca  Indexed measurement of use of reading capabili...\n",
            "368             readwork  Indexed measurement of use of reading capabili...\n",
            "369      readwork_wle_ca  Indexed measurement of use of reading capabili...\n",
            "370             taskdisc  Indexed measurement of use of task discretion ...\n",
            "371      taskdisc_wle_ca  Indexed measurement of use of task discretion ...\n",
            "372             writhome  Indexed measurement of use of writing capabili...\n",
            "373      writhome_wle_ca  Indexed measurement of use of writing capabili...\n",
            "374             writwork  Indexed measurement of use of writing capabili...\n",
            "375      writwork_wle_ca  Indexed measurement of use of writing capabili...\n",
            "376             birthrgn           Country of birth (9 regions - estimated)\n",
            "377                  row                                         Row Number\n",
            "378      job_performance                                    job_performance\n",
            "\n",
            "[379 rows x 2 columns]\n",
            "2\n"
          ],
          "name": "stdout"
        }
      ]
    }
  ]
}